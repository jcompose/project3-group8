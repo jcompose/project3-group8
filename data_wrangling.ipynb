{
 "cells": [
  {
   "cell_type": "code",
   "execution_count": null,
   "metadata": {},
   "outputs": [],
   "source": [
    "import pandas as pd\n",
    "import sqlite3"
   ]
  },
  {
   "cell_type": "code",
   "execution_count": null,
   "metadata": {},
   "outputs": [],
   "source": [
    "# Load the dataset\n",
    "df = pd.read_csv(\"data/RealEstate_California.csv\")\n",
    "\n",
    "# Drop rows where hasBadGeocode is 1 (true)\n",
    "df = df[df[\"hasBadGeocode\"] != 1]\n",
    "\n",
    "# Drop unneeded columns\n",
    "df = df.drop(columns=['stateId', 'cityId', 'countyId', 'is_bankOwned', 'description', 'hasBadGeocode', 'is_forAuction', 'country', \n",
    "            'currency', 'state', 'id', 'time', 'levels', 'livingAreaValue', \n",
    "            'lotAreaUnits', 'buildingArea', 'hasGarage'])\n"
   ]
  },
  {
   "cell_type": "code",
   "execution_count": null,
   "metadata": {},
   "outputs": [],
   "source": [
    "# Convert DataFrame columns to appropriate types\n",
    "df[\"id\"] = pd.to_numeric(df[\"Unnamed: 0\"], errors=\"coerce\").fillna(0).astype(int)\n",
    "df[\"datePostedString\"] = df[\"datePostedString\"].astype(str)\n",
    "df[\"price\"] = pd.to_numeric(df[\"price\"], errors=\"coerce\").fillna(0).astype(int)\n",
    "df[\"pricePerSquareFoot\"] = pd.to_numeric(df[\"pricePerSquareFoot\"], errors=\"coerce\").fillna(0).astype(int)\n",
    "df[\"bedrooms\"] = pd.to_numeric(df[\"bedrooms\"], errors=\"coerce\").fillna(0).astype(int)\n",
    "df[\"bathrooms\"] = pd.to_numeric(df[\"bathrooms\"], errors=\"coerce\").fillna(0)\n",
    "df[\"streetAddress\"] = df[\"streetAddress\"].astype(str)\n",
    "df[\"city\"] = df[\"city\"].astype(str)\n",
    "df[\"zipcode\"] = df[\"zipcode\"].astype(str)  # ZIP codes should be text\n",
    "df[\"latitude\"] = pd.to_numeric(df[\"latitude\"], errors=\"coerce\")\n",
    "df[\"longitude\"] = pd.to_numeric(df[\"longitude\"], errors=\"coerce\")\n",
    "df[\"yearBuilt\"] = pd.to_numeric(df[\"yearBuilt\"], errors=\"coerce\").fillna(0).astype(int)\n",
    "df[\"livingArea\"] = pd.to_numeric(df[\"livingArea\"], errors=\"coerce\").fillna(0).astype(int)\n",
    "df[\"parking\"] = df[\"parking\"].astype(bool)\n",
    "df[\"garageSpaces\"] = pd.to_numeric(df[\"garageSpaces\"], errors=\"coerce\").fillna(0).astype(int)\n",
    "df[\"pool\"] = df[\"pool\"].astype(bool)\n",
    "df[\"spa\"] = df[\"spa\"].astype(bool)\n",
    "df[\"isNewConstruction\"] = df[\"isNewConstruction\"].astype(bool)\n",
    "df[\"hasPetsAllowed\"] = df[\"hasPetsAllowed\"].astype(bool)\n",
    "df[\"homeType\"] = df[\"homeType\"].astype(str)\n",
    "df[\"county\"] = df[\"county\"].astype(str)\n",
    "df[\"event\"] = df[\"event\"].astype(str)\n"
   ]
  },
  {
   "cell_type": "code",
   "execution_count": null,
   "metadata": {},
   "outputs": [],
   "source": [
    "df = df.reset_index(drop=True)\n",
    "\n",
    "data = [\n",
    "    (\n",
    "        row[\"Unnamed: 0\"], row[\"datePostedString\"], row[\"price\"], row[\"pricePerSquareFoot\"],\n",
    "        row[\"bedrooms\"], row[\"bathrooms\"], row[\"streetAddress\"],\n",
    "        row[\"city\"], row[\"zipcode\"], row[\"latitude\"], row[\"longitude\"],\n",
    "        row[\"yearBuilt\"], row[\"livingArea\"], row[\"parking\"],\n",
    "        row[\"garageSpaces\"], row[\"pool\"], row[\"spa\"],\n",
    "        row[\"isNewConstruction\"], row[\"hasPetsAllowed\"],\n",
    "        row[\"homeType\"], row[\"county\"], row[\"event\"]\n",
    "    )\n",
    "    for _, row in df.iterrows()\n",
    "]"
   ]
  },
  {
   "cell_type": "code",
   "execution_count": null,
   "metadata": {},
   "outputs": [],
   "source": [
    "# Connect to SQLite and create real_estate database\n",
    "conn = sqlite3.connect(\"real_estate.sqlite\")\n",
    "\n",
    "# Drop real_estate table if it exists\n",
    "cursor = conn.cursor()\n",
    "cursor.execute(\"DROP TABLE IF EXISTS real_estate\")\n"
   ]
  },
  {
   "cell_type": "code",
   "execution_count": null,
   "metadata": {},
   "outputs": [],
   "source": [
    "# Create the real_estate table\n",
    "cursor.execute(\"\"\"\n",
    "CREATE TABLE IF NOT EXISTS real_estate (\n",
    "    id INTEGER PRIMARY KEY,\n",
    "    datePostedString TEXT,\n",
    "    price INTEGER,\n",
    "    pricePerSquareFoot INTEGER,\n",
    "    bedrooms INTEGER,\n",
    "    bathrooms REAL,\n",
    "    streetAddress TEXT,\n",
    "    city TEXT,\n",
    "    zipcode TEXT,\n",
    "    latitude REAL,\n",
    "    longitude REAL,\n",
    "    yearBuilt INTEGER,\n",
    "    livingArea INTEGER,\n",
    "    parking BOOLEAN,\n",
    "    garageSpaces INTEGER,\n",
    "    pool BOOLEAN,\n",
    "    spa BOOLEAN,\n",
    "    isNewConstruction BOOLEAN,\n",
    "    hasPetsAllowed BOOLEAN,\n",
    "    homeType TEXT,\n",
    "    county TEXT,\n",
    "    event TEXT\n",
    ");\n",
    "\"\"\")"
   ]
  },
  {
   "cell_type": "code",
   "execution_count": null,
   "metadata": {},
   "outputs": [],
   "source": [
    "# Query to bulk insert data into the real_estate table\n",
    "sql = \"\"\"\n",
    "INSERT INTO real_estate (\n",
    "    id, datePostedString, price, pricePerSquareFoot, bedrooms, bathrooms, streetAddress, \n",
    "    city, zipcode, latitude, longitude, yearBuilt, livingArea, \n",
    "    parking, garageSpaces, pool, spa, isNewConstruction, hasPetsAllowed, homeType, county, event\n",
    ") VALUES (?, ?, ?, ?, ?, ?, ?, ?, ?, ?, ?, ?, ?, ?, ?, ?, ?, ?, ?, ?, ?, ?);\n",
    "\"\"\""
   ]
  },
  {
   "cell_type": "code",
   "execution_count": null,
   "metadata": {},
   "outputs": [],
   "source": [
    "# Insert the data into the real_estate table\n",
    "cursor.executemany(sql, data)\n",
    "conn.commit()"
   ]
  },
  {
   "cell_type": "code",
   "execution_count": null,
   "metadata": {},
   "outputs": [],
   "source": [
    "# Test query to grab first 5 from the database\n",
    "query = \"SELECT * FROM real_estate LIMIT 5\"\n",
    "df_test = pd.read_sql_query(query, conn)\n",
    "\n",
    "conn.close()\n",
    "\n",
    "df_test.head()"
   ]
  },
  {
   "cell_type": "code",
   "execution_count": null,
   "metadata": {},
   "outputs": [],
   "source": [
    "# TODO: more queries to test the data and glean insights"
   ]
  }
 ],
 "metadata": {
  "kernelspec": {
   "display_name": "Python 3 (ipykernel)",
   "language": "python",
   "name": "python3"
  },
  "language_info": {
   "codemirror_mode": {
    "name": "ipython",
    "version": 3
   },
   "file_extension": ".py",
   "mimetype": "text/x-python",
   "name": "python",
   "nbconvert_exporter": "python",
   "pygments_lexer": "ipython3",
   "version": "3.10.15"
  }
 },
 "nbformat": 4,
 "nbformat_minor": 2
}
